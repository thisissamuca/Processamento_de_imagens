{
  "cells": [
    {
      "cell_type": "markdown",
      "metadata": {
        "id": "view-in-github",
        "colab_type": "text"
      },
      "source": [
        "<a href=\"https://colab.research.google.com/github/thisissamuca/Processamento_de_imagens/blob/main/Aula_PI_01.ipynb\" target=\"_parent\"><img src=\"https://colab.research.google.com/assets/colab-badge.svg\" alt=\"Open In Colab\"/></a>"
      ]
    },
    {
      "cell_type": "markdown",
      "metadata": {
        "id": "tH94dTixGByP"
      },
      "source": [
        "# **Processamento de Imagens 01**\n",
        "\n"
      ]
    },
    {
      "cell_type": "markdown",
      "source": [
        "Instalando bibliotecas necessárias\n",
        "\n",
        "Documentação do Pillow\n",
        "https://pillow.readthedocs.io/en/stable/reference/Image.html"
      ],
      "metadata": {
        "id": "uyFjravth3gU"
      }
    },
    {
      "cell_type": "code",
      "execution_count": null,
      "metadata": {
        "id": "QgA3m6rh-Tvg"
      },
      "outputs": [],
      "source": [
        "pip install Pillow"
      ]
    },
    {
      "cell_type": "markdown",
      "source": [
        "### **Principais códigos do Pillow:**\n",
        "\n",
        "**`Image.putpixel(xy, value)`**\n",
        "\n",
        "Modifica o pixel na posição especificada. A cor é dada como um valor numérico único para imagens de banda única e uma tupla para imagens de várias bandas. Além disso, tuplas RGB e RGBA são aceitas para imagens P.\n",
        "\n",
        "**`Image.new(mode, size, color=0)`**\n",
        "\n",
        "Cria uma nova imagem com o modo e tamanho fornecidos.\n",
        "\n",
        "**mode** – O modo a ser usado para a nova imagem.\n",
        "\n",
        "**size** – Uma tupla de 2, contendo (largura, altura) em pixels.\n",
        "\n",
        "**color** – Qual cor usar para a imagem.\n",
        "\n",
        "**`Image.save(fp, format=None)`**\n",
        "\n",
        "Salva esta imagem com o nome de arquivo fornecido. Se nenhum formato for especificado, o formato a ser usado será determinado pela extensão do nome do arquivo, se possível.\n",
        "\n",
        "**`Image.size`**\n",
        "\n",
        "Tamanho da imagem, em pixels. O tamanho é dado como uma tupla de 2 (largura, altura).\n",
        "\n",
        "**`Image.open(fp, mode='r', formats=None)`**\n",
        "\n",
        "Abre e identifica o arquivo de imagem fornecido.\n",
        "\n",
        "**`Image.getpixel(xy)`**\n",
        "\n",
        "Retorna o valor do pixel em uma determinada posição."
      ],
      "metadata": {
        "id": "1lBtkSkkFKv9"
      }
    },
    {
      "cell_type": "markdown",
      "source": [
        "## **Criando uma imagem do zero**"
      ],
      "metadata": {
        "id": "_KFkbTLGh8oq"
      }
    },
    {
      "cell_type": "markdown",
      "source": [
        "Criaremos uma imagem pensando em uma matriz composta por um número finito de pixels catalogados com a numeração de cor RGB. Para isso, precisamos primeiro preparar o ambiente:"
      ],
      "metadata": {
        "id": "YYGy0ngCCzAo"
      }
    },
    {
      "cell_type": "code",
      "execution_count": 53,
      "metadata": {
        "id": "xISbOEwlFi1b"
      },
      "outputs": [],
      "source": [
        "# Importando bibliotecas\n",
        "\n",
        "from PIL import Image\n",
        "import os"
      ]
    },
    {
      "cell_type": "code",
      "source": [
        "# Código fundamental para criar uma imagem retangular\n",
        "\n",
        "image = Image.new(\"RGB\",(100, 100), (255, 255, 0)) # Modo, Size, Cor\n",
        "image"
      ],
      "metadata": {
        "colab": {
          "base_uri": "https://localhost:8080/",
          "height": 117
        },
        "id": "u5k6Xnvji3gC",
        "outputId": "e1cc5ffc-fe19-4dd7-8929-8b69c1684d28"
      },
      "execution_count": 133,
      "outputs": [
        {
          "output_type": "execute_result",
          "data": {
            "text/plain": [
              "<PIL.Image.Image image mode=RGB size=100x100 at 0x7F6CC1EB7E90>"
            ],
            "image/png": "[encoded data removed]"
          },
          "metadata": {},
          "execution_count": 133
        }
      ]
    },
    {
      "cell_type": "markdown",
      "source": [
        "Agora, faremos operações matemáticas para criar figuras dentro desse retangulo:"
      ],
      "metadata": {
        "id": "N4HoQcsMDwzM"
      }
    },
    {
      "cell_type": "code",
      "source": [
        "# Definindo função para gerar um triângulo\n",
        "\n",
        "def triangle(size): # Colocando o tamanho como parâmetro\n",
        "\n",
        "# Definindo a cores\n",
        "\n",
        "  WHITE = (255, 255, 255) \n",
        "  BLACK = (0, 0, 0)\n",
        "\n",
        "# Criando um quadrado branco\n",
        "\n",
        "  image = Image.new(\"RGB\", (size, size), WHITE) \n",
        "\n",
        "# Criando um laço para percorrer com alguma ação em x, y unidades de comprimento \n",
        "\n",
        "  for x in range (size):\n",
        "    for y in range (size):\n",
        "\n",
        "# Utilzando todos os valores de x < y\n",
        "\n",
        "      if x < y: \n",
        "        image.putpixel((x, y), BLACK)\n",
        "\n",
        "  return image\n",
        "\n",
        "if __name__ == \"__main__\":\n",
        "  t = triangle(200)\n",
        "  t.show()\n",
        "\n",
        "t"
      ],
      "metadata": {
        "colab": {
          "base_uri": "https://localhost:8080/",
          "height": 217
        },
        "id": "TJ6YAhR1fm66",
        "outputId": "e685d00b-888a-4884-c482-cb2c20beb2c5"
      },
      "execution_count": 135,
      "outputs": [
        {
          "output_type": "execute_result",
          "data": {
            "text/plain": [
              "<PIL.Image.Image image mode=RGB size=200x200 at 0x7F6CCA600450>"
            ],
            "image/png": "[encoded data removed]"
          },
          "metadata": {},
          "execution_count": 135
        }
      ]
    },
    {
      "cell_type": "markdown",
      "source": [
        "Faremos agora, a bandeira da França. A proporção da bandeira é dada por 3/2, ou seja, é um retângulo. Cada faixa vertical iremos dividir em 1/3 na largura total da imagem:"
      ],
      "metadata": {
        "id": "_guPIQt1G66Z"
      }
    },
    {
      "cell_type": "code",
      "source": [
        "# Definindo função para gerar a bandeira da França\n",
        "\n",
        "def bandeira_franca (height):\n",
        "\n",
        "# Definindo a cores\n",
        "\n",
        "  WHITE = (255, 255, 255)\n",
        "  RED = (239, 65, 53)\n",
        "  BLUE = (0, 85, 164)\n",
        "\n",
        "# Definindo a largura e a divisão\n",
        "\n",
        "  width = 3*height//2\n",
        "  offset = width//3\n",
        "\n",
        "# Criando um quadrado branco\n",
        "\n",
        "  image = Image.new(\"RGB\", (width, height), WHITE) # Criando um quadrado branco\n",
        "\n",
        "# Criando um laço para percorrer com alguma ação em x, y unidades de comprimento \n",
        "\n",
        "  for x in range (offset):\n",
        "    for y in range (height):\n",
        "\n",
        "# Atribuindo cores para as divisões utilizando o parâmetro de x\n",
        "\n",
        "      image.putpixel((x, y), BLUE)\n",
        "      image.putpixel((x + 2*offset, y), RED)\n",
        "  return image\n",
        "\n",
        "if __name__ == \"__main__\":\n",
        "  bandeira = bandeira_franca (300)\n",
        "  bandeira.show()\n",
        "\n",
        "bandeira"
      ],
      "metadata": {
        "colab": {
          "base_uri": "https://localhost:8080/",
          "height": 317
        },
        "id": "dmeP1s-9hwqk",
        "outputId": "37c815cd-b83c-4788-f94f-9007e36e9847"
      },
      "execution_count": 137,
      "outputs": [
        {
          "output_type": "execute_result",
          "data": {
            "text/plain": [
              "<PIL.Image.Image image mode=RGB size=450x300 at 0x7F6CC1E446D0>"
            ],
            "image/png": "[encoded data removed]"
          },
          "metadata": {},
          "execution_count": 137
        }
      ]
    },
    {
      "cell_type": "markdown",
      "source": [
        "## **Escala de cinza**"
      ],
      "metadata": {
        "id": "-4TMfY2O5z3P"
      }
    },
    {
      "cell_type": "markdown",
      "source": [
        "Para converter qualquer cor em seu nível aproximado de cinza, deve-se primeiro obter suas primitivas vermelho, verde e azul (da escala RGB). Adiciona-se então 29.9% do vermelho mais 58.7% do verde mais 11.4% do azul.\n",
        "\n",
        "Logo, a escala de cinza nada mais é do que uma média ponderada na forma:\n",
        "\n",
        "RGB (x, y, z) => (0.299*x, 0.587*y, 0.114*z)\n",
        "\n",
        "Começaremos o estudo usando essa média ponderada:"
      ],
      "metadata": {
        "id": "bIrlcT8-IbwU"
      }
    },
    {
      "cell_type": "code",
      "source": [
        "# Definindo uma função com o parâmetro de cor para converter a imagem em escala de cinza\n",
        "\n",
        "def grayscale(colored):\n",
        "\n",
        "# Atribuindo o tamanho da imagem colorida\n",
        "\n",
        "  w, h = colored.size\n",
        "\n",
        "# Criando uma nova imagem\n",
        "\n",
        "  img = Image.new('RGB', (w, h))\n",
        "\n",
        "# Criando uma laço para percorrer a imagem em x, y unidades de comprimento\n",
        "\n",
        "  for x in range(w):\n",
        "    for y in range(h):\n",
        "\n",
        "# Coletando o RGB de cada pixel na imagem \n",
        "\n",
        "      pxl = colored.getpixel((x, y))\n",
        "\n",
        "# Convertendo cada pixel em grayscale\n",
        "\n",
        "      lum = int((0.299*pxl[0] + 0.587*pxl[1] + 0.114*pxl[2]))\n",
        "\n",
        "# Modificando os pixels em x,y utilizando a média ponderada lum em RGB (x, y, z)\n",
        "\n",
        "      img.putpixel((x, y), (lum, lum, lum))\n",
        "\n",
        "  return img\n",
        "\n",
        "# Abrindo a imagem que será convertida\n",
        "\n",
        "baloes = Image.open('balao.jpg')\n",
        "\n",
        "# Convertendo a imagem em questão\n",
        "\n",
        "pb_baloes = grayscale(baloes)\n",
        "\n",
        "# Salvando e abrindo a imagem convertida no banco de dados\n",
        "\n",
        "pb_baloes.save(\"pb_baloes.jpg\")\n",
        "pb_baloes"
      ],
      "metadata": {
        "id": "ewTxB_aQqNBy"
      },
      "execution_count": 130,
      "outputs": []
    },
    {
      "cell_type": "markdown",
      "source": [
        "Agora faremos a mesma coisa, porém, utilizando uma média simples para converter a imagem"
      ],
      "metadata": {
        "id": "6QFP9wgxMVTi"
      }
    },
    {
      "cell_type": "code",
      "source": [
        "# Definindo uma função com o parâmetro de cor para converter a imagem em escala de cinza\n",
        "\n",
        "def grayscale(colored):\n",
        "\n",
        "# Atribuindo o tamanho da imagem colorida\n",
        "\n",
        "  w, h = colored.size\n",
        "\n",
        "# Criando uma nova imagem\n",
        "\n",
        "  img = Image.new('RGB', (w, h))\n",
        "\n",
        "# Criando uma laço para percorrer a imagem em x, y unidades de comprimento\n",
        "\n",
        "  for x in range(w):\n",
        "    for y in range(h):\n",
        "\n",
        "# Coletando o RGB de cada pixel na imagem \n",
        "\n",
        "      pxl = colored.getpixel((x, y))\n",
        "\n",
        "# Convertendo cada pixel em grayscale\n",
        "\n",
        "      lum = (pxl[0] + pxl[1] + pxl[2])//3\n",
        "\n",
        "# Modificando os pixels em x,y utilizando a média ponderada lum em RGB (x, y, z)\n",
        "\n",
        "      img.putpixel((x, y), (lum, lum, lum))\n",
        "\n",
        "  return img\n",
        "\n",
        "# Abrindo a imagem que será convertida\n",
        "\n",
        "baloes2 = Image.open('balao.jpg')\n",
        "\n",
        "# Convertendo a imagem em questão\n",
        "\n",
        "pb_baloes2 = grayscale(baloes)\n",
        "\n",
        "# Salvando e abrindo a imagem convertida no banco de dados\n",
        "\n",
        "pb_baloes2.save(\"pb_baloes2.jpg\")\n",
        "pb_baloes2"
      ],
      "metadata": {
        "id": "tCEyEGxk-gaU"
      },
      "execution_count": 126,
      "outputs": []
    }
  ],
  "metadata": {
    "colab": {
      "name": "Aula_PI_01.ipynb",
      "provenance": [],
      "collapsed_sections": [],
      "authorship_tag": "ABX9TyNP2HhkukOHiaBqXANo5qdo",
      "include_colab_link": true
    },
    "kernelspec": {
      "display_name": "Python 3",
      "name": "python3"
    },
    "language_info": {
      "name": "python"
    }
  },
  "nbformat": 4,
  "nbformat_minor": 0
}