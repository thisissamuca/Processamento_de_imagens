{
  "nbformat": 4,
  "nbformat_minor": 0,
  "metadata": {
    "colab": {
      "name": "Ex_PI_01.ipynb",
      "provenance": [],
      "authorship_tag": "ABX9TyO2rDo30g0KQRg8bh7ymmkQ",
      "include_colab_link": true
    },
    "kernelspec": {
      "name": "python3",
      "display_name": "Python 3"
    },
    "language_info": {
      "name": "python"
    }
  },
  "cells": [
    {
      "cell_type": "markdown",
      "metadata": {
        "id": "view-in-github",
        "colab_type": "text"
      },
      "source": [
        "<a href=\"https://colab.research.google.com/github/thisissamuca/Processamento_de_imagens/blob/main/Ex_PI_01.ipynb\" target=\"_parent\"><img src=\"https://colab.research.google.com/assets/colab-badge.svg\" alt=\"Open In Colab\"/></a>"
      ]
    },
    {
      "cell_type": "code",
      "execution_count": 124,
      "metadata": {
        "id": "_Sm4wbViPLh_"
      },
      "outputs": [],
      "source": [
        "from PIL import Image"
      ]
    },
    {
      "cell_type": "code",
      "source": [
        "def figure01 (size):\n",
        "  WHITE = (255, 255, 255)\n",
        "  BLACK = (0, 0, 0)\n",
        "\n",
        "  img = Image.new('RGB', (size, size), WHITE)\n",
        "\n",
        "  for x in range (size):\n",
        "    for y in range (size):\n",
        "\n",
        "      for i in range (0, 30):\n",
        "        if x == 10*i or y == 10*i:\n",
        "          img.putpixel((x, y), BLACK)\n",
        "\n",
        "  return img\n",
        "\n",
        "if __name__ == \"__main__\":\n",
        "  f = figure01(300)\n",
        "  f.show()\n",
        "\n",
        "f"
      ],
      "metadata": {
        "colab": {
          "base_uri": "https://localhost:8080/",
          "height": 317
        },
        "id": "k9hq1zNjPWXd",
        "outputId": "15cbd11d-575a-4ce7-fe6d-b880071d3344"
      },
      "execution_count": 59,
      "outputs": [
        {
          "output_type": "execute_result",
          "data": {
            "text/plain": [
              "<PIL.Image.Image image mode=RGB size=300x300 at 0x7F0E4BB0AB90>"
            ],
            "image/png": "[encoded data removed]"
          },
          "metadata": {},
          "execution_count": 59
        }
      ]
    },
    {
      "cell_type": "code",
      "source": [
        "def figure02 (size):\n",
        "  WHITE = (255, 255, 255)\n",
        "  BLACK = (0, 0, 0)\n",
        "  RED = (255, 0, 0)\n",
        "  BLUE = (0, 0, 255)\n",
        "  GREEN = (0, 255, 0)\n",
        "  YELLOW = (255, 255, 0)\n",
        "\n",
        "  img = Image.new('RGB', (size, size), WHITE)\n",
        "\n",
        "  for x in range (size):\n",
        "    for y in range (size):\n",
        "\n",
        "        if x < size/2 and y < size/2:\n",
        "          img.putpixel((x, y), RED)\n",
        "\n",
        "        if x > size/2 and y > size/2:\n",
        "          img.putpixel((x, y), BLUE)\n",
        "\n",
        "        if x > size/2 and y < size/2:\n",
        "          img.putpixel((x, y), GREEN)\n",
        "\n",
        "        if x < size/2 and y > size/2:\n",
        "          img.putpixel((x, y), YELLOW)\n",
        "\n",
        "        if x == size/2 or y == size/2:\n",
        "          img.putpixel((x, y), BLACK)\n",
        "\n",
        "  return img\n",
        "\n",
        "if __name__ == \"__main__\":\n",
        "  f = figure02(300)\n",
        "  f.show()\n",
        "\n",
        "f"
      ],
      "metadata": {
        "colab": {
          "base_uri": "https://localhost:8080/",
          "height": 317
        },
        "id": "LcOdsRZcQJLl",
        "outputId": "8574e578-c0ec-491e-b7c7-99797f70a7ba"
      },
      "execution_count": 123,
      "outputs": [
        {
          "output_type": "execute_result",
          "data": {
            "text/plain": [
              "<PIL.Image.Image image mode=RGB size=300x300 at 0x7F0E4BA98110>"
            ],
            "image/png": "[encoded data removed]"
          },
          "metadata": {},
          "execution_count": 123
        }
      ]
    }
  ]
}